{
 "cells": [
  {
   "cell_type": "code",
   "execution_count": 1,
   "id": "31646196-b8e9-4cf1-8665-08618b2e2c95",
   "metadata": {},
   "outputs": [],
   "source": [
    "import re\n",
    "import pandas as pd\n",
    "pd.set_option('display.max.columns', None)\n",
    "import numpy as np\n",
    "import matplotlib.pyplot as plt\n",
    "import seaborn as sns"
   ]
  },
  {
   "cell_type": "code",
   "execution_count": 2,
   "id": "d21d02ad-98a0-49d8-a928-9c0deab78d86",
   "metadata": {},
   "outputs": [
    {
     "data": {
      "text/html": [
       "<div>\n",
       "<style scoped>\n",
       "    .dataframe tbody tr th:only-of-type {\n",
       "        vertical-align: middle;\n",
       "    }\n",
       "\n",
       "    .dataframe tbody tr th {\n",
       "        vertical-align: top;\n",
       "    }\n",
       "\n",
       "    .dataframe thead th {\n",
       "        text-align: right;\n",
       "    }\n",
       "</style>\n",
       "<table border=\"1\" class=\"dataframe\">\n",
       "  <thead>\n",
       "    <tr style=\"text-align: right;\">\n",
       "      <th></th>\n",
       "      <th>name</th>\n",
       "      <th>ratings</th>\n",
       "      <th>price</th>\n",
       "      <th>imgURL</th>\n",
       "      <th>storage_ram</th>\n",
       "      <th>os_processor</th>\n",
       "      <th>camera</th>\n",
       "      <th>display</th>\n",
       "      <th>network</th>\n",
       "      <th>battery</th>\n",
       "    </tr>\n",
       "  </thead>\n",
       "  <tbody>\n",
       "    <tr>\n",
       "      <th>170</th>\n",
       "      <td>SAMSUNG Galaxy A50 (Black, 64 GB)</td>\n",
       "      <td>4.3</td>\n",
       "      <td>₹21,000</td>\n",
       "      <td>https://rukminim2.flixcart.com/image/312/312/j...</td>\n",
       "      <td>Internal Storage64 GBRAM4 GBExpandable Storage...</td>\n",
       "      <td>Operating SystemAndroid Pie 9.0Processor TypeE...</td>\n",
       "      <td>Primary Camera AvailableYesPrimary Camera25MP ...</td>\n",
       "      <td>Display Size16.26 cm (6.4 inch)Resolution1080 ...</td>\n",
       "      <td>Network Type3G, 4G, 2GSupported NetworksGSM, W...</td>\n",
       "      <td>Battery Capacity4000 mAh</td>\n",
       "    </tr>\n",
       "    <tr>\n",
       "      <th>301</th>\n",
       "      <td>SAMSUNG Metro 313</td>\n",
       "      <td>4.3</td>\n",
       "      <td>₹2,399</td>\n",
       "      <td>https://rukminim2.flixcart.com/image/312/312/k...</td>\n",
       "      <td>Internal Storage2.27 MBRAM4 MBSupported Memory...</td>\n",
       "      <td>Operating SystemSeries 30 Propreitory Vna (Ser...</td>\n",
       "      <td>Primary Camera0.3MP Rear CameraPrimary Camera ...</td>\n",
       "      <td>Display Size5.16 cm (2.03 inch)Resolution128.1...</td>\n",
       "      <td>Network Type5G, 4G, 3G, 2GSupported Networks5G...</td>\n",
       "      <td>Battery Capacity1000 mAhBattery TypeLi-ion</td>\n",
       "    </tr>\n",
       "    <tr>\n",
       "      <th>308</th>\n",
       "      <td>SAMSUNG Galaxy A52s 5G (Awesome White, 128 GB)</td>\n",
       "      <td>4.2</td>\n",
       "      <td>₹38,999</td>\n",
       "      <td>https://rukminim2.flixcart.com/image/312/312/k...</td>\n",
       "      <td>Internal Storage128 GBRAM6 GBExpandable Storag...</td>\n",
       "      <td>Operating SystemAndroid 12Processor CoreOcta C...</td>\n",
       "      <td>Primary Camera AvailableYesPrimary Camera64MP ...</td>\n",
       "      <td>Display Size16.51 cm (6.5 inch)Resolution2400 ...</td>\n",
       "      <td>Network Type5GSupported Networks5G</td>\n",
       "      <td>Battery Capacity4500 mAh</td>\n",
       "    </tr>\n",
       "    <tr>\n",
       "      <th>320</th>\n",
       "      <td>SAMSUNG Galaxy S22 5G (Phantom Black, 128 GB)</td>\n",
       "      <td>4.0</td>\n",
       "      <td>₹64,999</td>\n",
       "      <td>https://rukminim2.flixcart.com/image/312/312/x...</td>\n",
       "      <td>Internal Storage128 GBRAM8 GBMemory Card Slot ...</td>\n",
       "      <td>Operating SystemAndroid 12Processor CoreOcta C...</td>\n",
       "      <td>Primary Camera50MP Rear CameraDual Camera Lens...</td>\n",
       "      <td>Display Size15.49 cm (6.1 inch)Resolution2340 ...</td>\n",
       "      <td>Network Type5GSupported Networks5G, 4G LTE, WC...</td>\n",
       "      <td>Battery Capacity3700 mAh</td>\n",
       "    </tr>\n",
       "    <tr>\n",
       "      <th>496</th>\n",
       "      <td>SAMSUNG Galaxy M01 (Red, 32 GB)</td>\n",
       "      <td>4.3</td>\n",
       "      <td>₹8,999</td>\n",
       "      <td>https://rukminim2.flixcart.com/image/312/312/k...</td>\n",
       "      <td>Internal Storage32 GBRAM3 GBExpandable Storage...</td>\n",
       "      <td>Operating SystemAndroid 12Processor CoreOcta C...</td>\n",
       "      <td>Primary Camera AvailableYesPrimary Camera13MP ...</td>\n",
       "      <td>Display Size14.48 cm (5.7 inch)Resolution1520 ...</td>\n",
       "      <td>Network Type3G, 4G, 2GSupported NetworksGSM, W...</td>\n",
       "      <td>Battery Capacity4000 mAh</td>\n",
       "    </tr>\n",
       "  </tbody>\n",
       "</table>\n",
       "</div>"
      ],
      "text/plain": [
       "                                               name  ratings    price  \\\n",
       "170               SAMSUNG Galaxy A50 (Black, 64 GB)      4.3  ₹21,000   \n",
       "301                               SAMSUNG Metro 313      4.3   ₹2,399   \n",
       "308  SAMSUNG Galaxy A52s 5G (Awesome White, 128 GB)      4.2  ₹38,999   \n",
       "320   SAMSUNG Galaxy S22 5G (Phantom Black, 128 GB)      4.0  ₹64,999   \n",
       "496                 SAMSUNG Galaxy M01 (Red, 32 GB)      4.3   ₹8,999   \n",
       "\n",
       "                                                imgURL  \\\n",
       "170  https://rukminim2.flixcart.com/image/312/312/j...   \n",
       "301  https://rukminim2.flixcart.com/image/312/312/k...   \n",
       "308  https://rukminim2.flixcart.com/image/312/312/k...   \n",
       "320  https://rukminim2.flixcart.com/image/312/312/x...   \n",
       "496  https://rukminim2.flixcart.com/image/312/312/k...   \n",
       "\n",
       "                                           storage_ram  \\\n",
       "170  Internal Storage64 GBRAM4 GBExpandable Storage...   \n",
       "301  Internal Storage2.27 MBRAM4 MBSupported Memory...   \n",
       "308  Internal Storage128 GBRAM6 GBExpandable Storag...   \n",
       "320  Internal Storage128 GBRAM8 GBMemory Card Slot ...   \n",
       "496  Internal Storage32 GBRAM3 GBExpandable Storage...   \n",
       "\n",
       "                                          os_processor  \\\n",
       "170  Operating SystemAndroid Pie 9.0Processor TypeE...   \n",
       "301  Operating SystemSeries 30 Propreitory Vna (Ser...   \n",
       "308  Operating SystemAndroid 12Processor CoreOcta C...   \n",
       "320  Operating SystemAndroid 12Processor CoreOcta C...   \n",
       "496  Operating SystemAndroid 12Processor CoreOcta C...   \n",
       "\n",
       "                                                camera  \\\n",
       "170  Primary Camera AvailableYesPrimary Camera25MP ...   \n",
       "301  Primary Camera0.3MP Rear CameraPrimary Camera ...   \n",
       "308  Primary Camera AvailableYesPrimary Camera64MP ...   \n",
       "320  Primary Camera50MP Rear CameraDual Camera Lens...   \n",
       "496  Primary Camera AvailableYesPrimary Camera13MP ...   \n",
       "\n",
       "                                               display  \\\n",
       "170  Display Size16.26 cm (6.4 inch)Resolution1080 ...   \n",
       "301  Display Size5.16 cm (2.03 inch)Resolution128.1...   \n",
       "308  Display Size16.51 cm (6.5 inch)Resolution2400 ...   \n",
       "320  Display Size15.49 cm (6.1 inch)Resolution2340 ...   \n",
       "496  Display Size14.48 cm (5.7 inch)Resolution1520 ...   \n",
       "\n",
       "                                               network  \\\n",
       "170  Network Type3G, 4G, 2GSupported NetworksGSM, W...   \n",
       "301  Network Type5G, 4G, 3G, 2GSupported Networks5G...   \n",
       "308                 Network Type5GSupported Networks5G   \n",
       "320  Network Type5GSupported Networks5G, 4G LTE, WC...   \n",
       "496  Network Type3G, 4G, 2GSupported NetworksGSM, W...   \n",
       "\n",
       "                                        battery  \n",
       "170                    Battery Capacity4000 mAh  \n",
       "301  Battery Capacity1000 mAhBattery TypeLi-ion  \n",
       "308                    Battery Capacity4500 mAh  \n",
       "320                    Battery Capacity3700 mAh  \n",
       "496                    Battery Capacity4000 mAh  "
      ]
     },
     "execution_count": 2,
     "metadata": {},
     "output_type": "execute_result"
    }
   ],
   "source": [
    "df = pd.read_csv('data/samsung_mobile_new_data.csv', na_values = ['', ' '])\n",
    "df.sample(5)"
   ]
  },
  {
   "cell_type": "code",
   "execution_count": 3,
   "id": "1097a9d5-f94f-4655-b4cb-ccb11ec14d75",
   "metadata": {},
   "outputs": [
    {
     "name": "stdout",
     "output_type": "stream",
     "text": [
      "<class 'pandas.core.frame.DataFrame'>\n",
      "RangeIndex: 576 entries, 0 to 575\n",
      "Data columns (total 10 columns):\n",
      " #   Column        Non-Null Count  Dtype  \n",
      "---  ------        --------------  -----  \n",
      " 0   name          576 non-null    object \n",
      " 1   ratings       553 non-null    float64\n",
      " 2   price         576 non-null    object \n",
      " 3   imgURL        576 non-null    object \n",
      " 4   storage_ram   570 non-null    object \n",
      " 5   os_processor  555 non-null    object \n",
      " 6   camera        562 non-null    object \n",
      " 7   display       573 non-null    object \n",
      " 8   network       565 non-null    object \n",
      " 9   battery       573 non-null    object \n",
      "dtypes: float64(1), object(9)\n",
      "memory usage: 45.1+ KB\n"
     ]
    }
   ],
   "source": [
    "df.info()"
   ]
  },
  {
   "cell_type": "code",
   "execution_count": 4,
   "id": "ce6d80cb-cd39-43f6-a8bc-b4d3c571be59",
   "metadata": {},
   "outputs": [
    {
     "data": {
      "text/plain": [
       "name             0\n",
       "ratings         23\n",
       "price            0\n",
       "imgURL           0\n",
       "storage_ram      6\n",
       "os_processor    21\n",
       "camera          14\n",
       "display          3\n",
       "network         11\n",
       "battery          3\n",
       "dtype: int64"
      ]
     },
     "execution_count": 4,
     "metadata": {},
     "output_type": "execute_result"
    }
   ],
   "source": [
    "df.isnull().sum()"
   ]
  },
  {
   "cell_type": "code",
   "execution_count": 5,
   "id": "1dfb5ddc-14b7-4637-a1c0-45b81b57f9de",
   "metadata": {},
   "outputs": [],
   "source": [
    "df = df[~df['ratings'].isnull()]"
   ]
  },
  {
   "cell_type": "code",
   "execution_count": 6,
   "id": "8f2e1c30-ad88-4c9b-bfec-73b6c36ad345",
   "metadata": {},
   "outputs": [],
   "source": [
    "df.dropna(inplace = True)"
   ]
  },
  {
   "cell_type": "code",
   "execution_count": 7,
   "id": "1242fe07-930d-46b5-9522-1009f9a0ef38",
   "metadata": {},
   "outputs": [
    {
     "data": {
      "text/plain": [
       "(539, 10)"
      ]
     },
     "execution_count": 7,
     "metadata": {},
     "output_type": "execute_result"
    }
   ],
   "source": [
    "df.shape"
   ]
  },
  {
   "cell_type": "code",
   "execution_count": 8,
   "id": "8c2126dc-2381-4c74-8e78-be609ec0bb99",
   "metadata": {},
   "outputs": [
    {
     "name": "stdout",
     "output_type": "stream",
     "text": [
      "<class 'pandas.core.frame.DataFrame'>\n",
      "Index: 539 entries, 0 to 573\n",
      "Data columns (total 10 columns):\n",
      " #   Column        Non-Null Count  Dtype  \n",
      "---  ------        --------------  -----  \n",
      " 0   name          539 non-null    object \n",
      " 1   ratings       539 non-null    float64\n",
      " 2   price         539 non-null    object \n",
      " 3   imgURL        539 non-null    object \n",
      " 4   storage_ram   539 non-null    object \n",
      " 5   os_processor  539 non-null    object \n",
      " 6   camera        539 non-null    object \n",
      " 7   display       539 non-null    object \n",
      " 8   network       539 non-null    object \n",
      " 9   battery       539 non-null    object \n",
      "dtypes: float64(1), object(9)\n",
      "memory usage: 46.3+ KB\n"
     ]
    }
   ],
   "source": [
    "df.info()"
   ]
  },
  {
   "cell_type": "code",
   "execution_count": 9,
   "id": "63530393-e847-42b6-b9e3-8785895fb9b0",
   "metadata": {},
   "outputs": [
    {
     "data": {
      "text/html": [
       "<div>\n",
       "<style scoped>\n",
       "    .dataframe tbody tr th:only-of-type {\n",
       "        vertical-align: middle;\n",
       "    }\n",
       "\n",
       "    .dataframe tbody tr th {\n",
       "        vertical-align: top;\n",
       "    }\n",
       "\n",
       "    .dataframe thead th {\n",
       "        text-align: right;\n",
       "    }\n",
       "</style>\n",
       "<table border=\"1\" class=\"dataframe\">\n",
       "  <thead>\n",
       "    <tr style=\"text-align: right;\">\n",
       "      <th></th>\n",
       "      <th>name</th>\n",
       "      <th>ratings</th>\n",
       "      <th>price</th>\n",
       "      <th>imgURL</th>\n",
       "      <th>storage_ram</th>\n",
       "      <th>os_processor</th>\n",
       "      <th>camera</th>\n",
       "      <th>display</th>\n",
       "      <th>network</th>\n",
       "      <th>battery</th>\n",
       "    </tr>\n",
       "  </thead>\n",
       "  <tbody>\n",
       "    <tr>\n",
       "      <th>163</th>\n",
       "      <td>SAMSUNG Galaxy A03s (Black, 64 GB)</td>\n",
       "      <td>4.3</td>\n",
       "      <td>₹14,499</td>\n",
       "      <td>https://rukminim2.flixcart.com/image/312/312/k...</td>\n",
       "      <td>Internal Storage64 GBRAM4 GBExpandable Storage...</td>\n",
       "      <td>Operating SystemAndroid 11Processor TypeMediat...</td>\n",
       "      <td>Primary Camera AvailableYesPrimary Camera13MP ...</td>\n",
       "      <td>Display Size16.51 cm (6.5 inch)Resolution1600 ...</td>\n",
       "      <td>Network Type4G, 3G, 2GSupported Networks4G LTE...</td>\n",
       "      <td>Battery Capacity5000 mAh</td>\n",
       "    </tr>\n",
       "    <tr>\n",
       "      <th>378</th>\n",
       "      <td>SAMSUNG Guru FM Plus SM-B110E/D</td>\n",
       "      <td>4.2</td>\n",
       "      <td>₹1,449</td>\n",
       "      <td>https://rukminim2.flixcart.com/image/312/312/m...</td>\n",
       "      <td>Internal Storage32 GBRAM3 GBMemory Card Slot T...</td>\n",
       "      <td>Operating System0vOperating FrequencyGSM - 900...</td>\n",
       "      <td>Primary Camera AvailableYesPrimary Camera64MP ...</td>\n",
       "      <td>Display Size3.81 cm (1.5 inch)Resolution128 x ...</td>\n",
       "      <td>Network Type2GSupported NetworksGSMWi-FiNoUSB ...</td>\n",
       "      <td>Battery Capacity800 mAhBattery Typeli-ionDual ...</td>\n",
       "    </tr>\n",
       "    <tr>\n",
       "      <th>461</th>\n",
       "      <td>SAMSUNG Galaxy A72 (Awesome Black, 128 GB)</td>\n",
       "      <td>4.3</td>\n",
       "      <td>₹41,999</td>\n",
       "      <td>https://rukminim2.flixcart.com/image/312/312/k...</td>\n",
       "      <td>Internal Storage128 GBRAM8 GBExpandable Storag...</td>\n",
       "      <td>Operating SystemAndroid 11Processor TypeQualco...</td>\n",
       "      <td>Primary Camera AvailableYesPrimary Camera64MP ...</td>\n",
       "      <td>Display Size17.02 cm (6.7 inch)Resolution2400 ...</td>\n",
       "      <td>Network Type4G VOLTE, 4G, 3G, 2GSupported Netw...</td>\n",
       "      <td>Battery Capacity5000 mAh</td>\n",
       "    </tr>\n",
       "    <tr>\n",
       "      <th>515</th>\n",
       "      <td>SAMSUNG Galaxy A7 (Gold, 64 GB)</td>\n",
       "      <td>4.2</td>\n",
       "      <td>₹22,300</td>\n",
       "      <td>https://rukminim2.flixcart.com/image/312/312/j...</td>\n",
       "      <td>Internal Storage64 GBRAM4 GBExpandable Storage...</td>\n",
       "      <td>Operating SystemAndroid Oreo 8Processor TypeSa...</td>\n",
       "      <td>Primary Camera AvailableYesPrimary Camera24MP ...</td>\n",
       "      <td>Display Size15.24 cm (6 inch)Resolution2220 x ...</td>\n",
       "      <td>Network Type3G, 4G VOLTE, 4G, 2GSupported Netw...</td>\n",
       "      <td>Battery Capacity3300 mAhBattery TypeLithium-io...</td>\n",
       "    </tr>\n",
       "  </tbody>\n",
       "</table>\n",
       "</div>"
      ],
      "text/plain": [
       "                                           name  ratings    price  \\\n",
       "163          SAMSUNG Galaxy A03s (Black, 64 GB)      4.3  ₹14,499   \n",
       "378             SAMSUNG Guru FM Plus SM-B110E/D      4.2   ₹1,449   \n",
       "461  SAMSUNG Galaxy A72 (Awesome Black, 128 GB)      4.3  ₹41,999   \n",
       "515             SAMSUNG Galaxy A7 (Gold, 64 GB)      4.2  ₹22,300   \n",
       "\n",
       "                                                imgURL  \\\n",
       "163  https://rukminim2.flixcart.com/image/312/312/k...   \n",
       "378  https://rukminim2.flixcart.com/image/312/312/m...   \n",
       "461  https://rukminim2.flixcart.com/image/312/312/k...   \n",
       "515  https://rukminim2.flixcart.com/image/312/312/j...   \n",
       "\n",
       "                                           storage_ram  \\\n",
       "163  Internal Storage64 GBRAM4 GBExpandable Storage...   \n",
       "378  Internal Storage32 GBRAM3 GBMemory Card Slot T...   \n",
       "461  Internal Storage128 GBRAM8 GBExpandable Storag...   \n",
       "515  Internal Storage64 GBRAM4 GBExpandable Storage...   \n",
       "\n",
       "                                          os_processor  \\\n",
       "163  Operating SystemAndroid 11Processor TypeMediat...   \n",
       "378  Operating System0vOperating FrequencyGSM - 900...   \n",
       "461  Operating SystemAndroid 11Processor TypeQualco...   \n",
       "515  Operating SystemAndroid Oreo 8Processor TypeSa...   \n",
       "\n",
       "                                                camera  \\\n",
       "163  Primary Camera AvailableYesPrimary Camera13MP ...   \n",
       "378  Primary Camera AvailableYesPrimary Camera64MP ...   \n",
       "461  Primary Camera AvailableYesPrimary Camera64MP ...   \n",
       "515  Primary Camera AvailableYesPrimary Camera24MP ...   \n",
       "\n",
       "                                               display  \\\n",
       "163  Display Size16.51 cm (6.5 inch)Resolution1600 ...   \n",
       "378  Display Size3.81 cm (1.5 inch)Resolution128 x ...   \n",
       "461  Display Size17.02 cm (6.7 inch)Resolution2400 ...   \n",
       "515  Display Size15.24 cm (6 inch)Resolution2220 x ...   \n",
       "\n",
       "                                               network  \\\n",
       "163  Network Type4G, 3G, 2GSupported Networks4G LTE...   \n",
       "378  Network Type2GSupported NetworksGSMWi-FiNoUSB ...   \n",
       "461  Network Type4G VOLTE, 4G, 3G, 2GSupported Netw...   \n",
       "515  Network Type3G, 4G VOLTE, 4G, 2GSupported Netw...   \n",
       "\n",
       "                                               battery  \n",
       "163                           Battery Capacity5000 mAh  \n",
       "378  Battery Capacity800 mAhBattery Typeli-ionDual ...  \n",
       "461                           Battery Capacity5000 mAh  \n",
       "515  Battery Capacity3300 mAhBattery TypeLithium-io...  "
      ]
     },
     "execution_count": 9,
     "metadata": {},
     "output_type": "execute_result"
    }
   ],
   "source": [
    "df.sample(4)"
   ]
  },
  {
   "cell_type": "code",
   "execution_count": 10,
   "id": "f0e6578c-6aa9-4d8a-b545-accb2fadb0a9",
   "metadata": {},
   "outputs": [],
   "source": [
    "pattern = re.compile(r'(((\\d{3}|\\d{4})\\w?\\ ?[x|*] ?\\w?(\\d{3}|\\d{4})))', re.I)\n",
    "def get_display_resolution(row):\n",
    "    match = pattern.search(row)\n",
    "    return match.group() if match else np.nan\n",
    "\n",
    "df['resolution'] = df['display'].apply(get_display_resolution)"
   ]
  },
  {
   "cell_type": "code",
   "execution_count": 11,
   "id": "521eb9d6-4b85-4c2c-8f56-cc34e4ae6b89",
   "metadata": {},
   "outputs": [
    {
     "data": {
      "text/html": [
       "<div>\n",
       "<style scoped>\n",
       "    .dataframe tbody tr th:only-of-type {\n",
       "        vertical-align: middle;\n",
       "    }\n",
       "\n",
       "    .dataframe tbody tr th {\n",
       "        vertical-align: top;\n",
       "    }\n",
       "\n",
       "    .dataframe thead th {\n",
       "        text-align: right;\n",
       "    }\n",
       "</style>\n",
       "<table border=\"1\" class=\"dataframe\">\n",
       "  <thead>\n",
       "    <tr style=\"text-align: right;\">\n",
       "      <th></th>\n",
       "      <th>name</th>\n",
       "      <th>ratings</th>\n",
       "      <th>price</th>\n",
       "      <th>imgURL</th>\n",
       "      <th>storage_ram</th>\n",
       "      <th>os_processor</th>\n",
       "      <th>camera</th>\n",
       "      <th>display</th>\n",
       "      <th>network</th>\n",
       "      <th>battery</th>\n",
       "      <th>resolution</th>\n",
       "    </tr>\n",
       "  </thead>\n",
       "  <tbody>\n",
       "    <tr>\n",
       "      <th>49</th>\n",
       "      <td>SAMSUNG Galaxy A34 5G (Awesome Violet, 128 GB)</td>\n",
       "      <td>4.2</td>\n",
       "      <td>₹30,999</td>\n",
       "      <td>https://rukminim2.flixcart.com/image/312/312/x...</td>\n",
       "      <td>Internal Storage128 GBRAM8 GBTotal Memory128 G...</td>\n",
       "      <td>Operating SystemAndroid 13Processor TypeDimens...</td>\n",
       "      <td>Primary Camera AvailableYesPrimary Camera48MP ...</td>\n",
       "      <td>Display Size16.76 cm (6.6 inch)Resolution1080 ...</td>\n",
       "      <td>Network Type2G, 3G, 4G VOLTE, 5GSupported Netw...</td>\n",
       "      <td>Battery Capacity5000 mAhDual BatteryNo</td>\n",
       "      <td>1080 x 2340</td>\n",
       "    </tr>\n",
       "    <tr>\n",
       "      <th>452</th>\n",
       "      <td>SAMSUNG Galaxy M02 (Black, 32 GB)</td>\n",
       "      <td>4.3</td>\n",
       "      <td>₹8,499</td>\n",
       "      <td>https://rukminim2.flixcart.com/image/312/312/k...</td>\n",
       "      <td>Internal Storage32 GBRAM3 GBMemory Card Slot T...</td>\n",
       "      <td>Operating SystemAndroid Pie 10Processor TypeMe...</td>\n",
       "      <td>Primary Camera AvailableYesPrimary Camera13MP ...</td>\n",
       "      <td>Display Size16.64 cm (6.55 inch)Resolution720 ...</td>\n",
       "      <td>Network Type4G VOLTESupported Networks4G VoLTE...</td>\n",
       "      <td>Battery Capacity5000 mAhBattery Typelithium-ion</td>\n",
       "      <td>720 x 1600</td>\n",
       "    </tr>\n",
       "    <tr>\n",
       "      <th>411</th>\n",
       "      <td>SAMSUNG M02s (Black, 64 GB)</td>\n",
       "      <td>4.2</td>\n",
       "      <td>₹10,190</td>\n",
       "      <td>https://rukminim2.flixcart.com/image/312/312/k...</td>\n",
       "      <td>Internal Storage64 GBRAM4 GBMemory Card Slot T...</td>\n",
       "      <td>Operating SystemAndroid Pie 10Processor TypeQu...</td>\n",
       "      <td>Primary Camera AvailableYesPrimary Camera13MP ...</td>\n",
       "      <td>Display Size16.51 cm (6.5 inch)Resolution720 x...</td>\n",
       "      <td>Network Type4G VOLTE, 3GSupported Networks4G V...</td>\n",
       "      <td>Battery Capacity5000 mAhBattery Typelithium-ion</td>\n",
       "      <td>720 x 1600</td>\n",
       "    </tr>\n",
       "    <tr>\n",
       "      <th>260</th>\n",
       "      <td>SAMSUNG Galaxy M53 5G (Mystique Green, 128 GB)</td>\n",
       "      <td>4.4</td>\n",
       "      <td>₹32,999</td>\n",
       "      <td>https://rukminim2.flixcart.com/image/312/312/x...</td>\n",
       "      <td>Internal Storage128 GBRAM6 GBMemory Card Slot ...</td>\n",
       "      <td>Operating SystemAndroid Q 12Processor CoreOcta...</td>\n",
       "      <td>Primary Camera108MP Rear CameraDual Camera Len...</td>\n",
       "      <td>Display Size17.02 cm (6.7 inch)Resolution2400 ...</td>\n",
       "      <td>Network Type5GSupported Networks5G</td>\n",
       "      <td>Battery Capacity5000 mAh</td>\n",
       "      <td>2400 x 1080</td>\n",
       "    </tr>\n",
       "    <tr>\n",
       "      <th>2</th>\n",
       "      <td>SAMSUNG Galaxy F13 (Nightsky Green, 128 GB)</td>\n",
       "      <td>4.3</td>\n",
       "      <td>₹10,499</td>\n",
       "      <td>https://rukminim2.flixcart.com/image/312/312/x...</td>\n",
       "      <td>Internal Storage128 GBRAM4 GBExpandable Storag...</td>\n",
       "      <td>Operating SystemAndroid 12Processor TypeExynos...</td>\n",
       "      <td>Primary Camera AvailableYesPrimary Camera50MP ...</td>\n",
       "      <td>Display Size16.76 cm (6.6 inch)Resolution2408 ...</td>\n",
       "      <td>Network Type4G, 3G, 2GSupported Networks4G LTE...</td>\n",
       "      <td>Battery Capacity6000 mAhDual BatteryNo</td>\n",
       "      <td>2408 x 1080</td>\n",
       "    </tr>\n",
       "  </tbody>\n",
       "</table>\n",
       "</div>"
      ],
      "text/plain": [
       "                                               name  ratings    price  \\\n",
       "49   SAMSUNG Galaxy A34 5G (Awesome Violet, 128 GB)      4.2  ₹30,999   \n",
       "452               SAMSUNG Galaxy M02 (Black, 32 GB)      4.3   ₹8,499   \n",
       "411                     SAMSUNG M02s (Black, 64 GB)      4.2  ₹10,190   \n",
       "260  SAMSUNG Galaxy M53 5G (Mystique Green, 128 GB)      4.4  ₹32,999   \n",
       "2       SAMSUNG Galaxy F13 (Nightsky Green, 128 GB)      4.3  ₹10,499   \n",
       "\n",
       "                                                imgURL  \\\n",
       "49   https://rukminim2.flixcart.com/image/312/312/x...   \n",
       "452  https://rukminim2.flixcart.com/image/312/312/k...   \n",
       "411  https://rukminim2.flixcart.com/image/312/312/k...   \n",
       "260  https://rukminim2.flixcart.com/image/312/312/x...   \n",
       "2    https://rukminim2.flixcart.com/image/312/312/x...   \n",
       "\n",
       "                                           storage_ram  \\\n",
       "49   Internal Storage128 GBRAM8 GBTotal Memory128 G...   \n",
       "452  Internal Storage32 GBRAM3 GBMemory Card Slot T...   \n",
       "411  Internal Storage64 GBRAM4 GBMemory Card Slot T...   \n",
       "260  Internal Storage128 GBRAM6 GBMemory Card Slot ...   \n",
       "2    Internal Storage128 GBRAM4 GBExpandable Storag...   \n",
       "\n",
       "                                          os_processor  \\\n",
       "49   Operating SystemAndroid 13Processor TypeDimens...   \n",
       "452  Operating SystemAndroid Pie 10Processor TypeMe...   \n",
       "411  Operating SystemAndroid Pie 10Processor TypeQu...   \n",
       "260  Operating SystemAndroid Q 12Processor CoreOcta...   \n",
       "2    Operating SystemAndroid 12Processor TypeExynos...   \n",
       "\n",
       "                                                camera  \\\n",
       "49   Primary Camera AvailableYesPrimary Camera48MP ...   \n",
       "452  Primary Camera AvailableYesPrimary Camera13MP ...   \n",
       "411  Primary Camera AvailableYesPrimary Camera13MP ...   \n",
       "260  Primary Camera108MP Rear CameraDual Camera Len...   \n",
       "2    Primary Camera AvailableYesPrimary Camera50MP ...   \n",
       "\n",
       "                                               display  \\\n",
       "49   Display Size16.76 cm (6.6 inch)Resolution1080 ...   \n",
       "452  Display Size16.64 cm (6.55 inch)Resolution720 ...   \n",
       "411  Display Size16.51 cm (6.5 inch)Resolution720 x...   \n",
       "260  Display Size17.02 cm (6.7 inch)Resolution2400 ...   \n",
       "2    Display Size16.76 cm (6.6 inch)Resolution2408 ...   \n",
       "\n",
       "                                               network  \\\n",
       "49   Network Type2G, 3G, 4G VOLTE, 5GSupported Netw...   \n",
       "452  Network Type4G VOLTESupported Networks4G VoLTE...   \n",
       "411  Network Type4G VOLTE, 3GSupported Networks4G V...   \n",
       "260                 Network Type5GSupported Networks5G   \n",
       "2    Network Type4G, 3G, 2GSupported Networks4G LTE...   \n",
       "\n",
       "                                             battery   resolution  \n",
       "49            Battery Capacity5000 mAhDual BatteryNo  1080 x 2340  \n",
       "452  Battery Capacity5000 mAhBattery Typelithium-ion   720 x 1600  \n",
       "411  Battery Capacity5000 mAhBattery Typelithium-ion   720 x 1600  \n",
       "260                         Battery Capacity5000 mAh  2400 x 1080  \n",
       "2             Battery Capacity6000 mAhDual BatteryNo  2408 x 1080  "
      ]
     },
     "execution_count": 11,
     "metadata": {},
     "output_type": "execute_result"
    }
   ],
   "source": [
    "df.sample(5)"
   ]
  },
  {
   "cell_type": "code",
   "execution_count": 12,
   "id": "15a7a840-b4ff-4a1f-8594-2b1c69373fa9",
   "metadata": {},
   "outputs": [
    {
     "data": {
      "text/plain": [
       "name            0\n",
       "ratings         0\n",
       "price           0\n",
       "imgURL          0\n",
       "storage_ram     0\n",
       "os_processor    0\n",
       "camera          0\n",
       "display         0\n",
       "network         0\n",
       "battery         0\n",
       "resolution      3\n",
       "dtype: int64"
      ]
     },
     "execution_count": 12,
     "metadata": {},
     "output_type": "execute_result"
    }
   ],
   "source": [
    "df.isnull().sum()"
   ]
  },
  {
   "cell_type": "code",
   "execution_count": 13,
   "id": "a545b1e5-a2a2-4cf3-9193-2897c4ced23d",
   "metadata": {},
   "outputs": [],
   "source": [
    "df.dropna(inplace = True)"
   ]
  },
  {
   "cell_type": "code",
   "execution_count": 14,
   "id": "c4942048-90ef-403d-9cea-7d500c51e9de",
   "metadata": {},
   "outputs": [
    {
     "data": {
      "text/plain": [
       "name            0\n",
       "ratings         0\n",
       "price           0\n",
       "imgURL          0\n",
       "storage_ram     0\n",
       "os_processor    0\n",
       "camera          0\n",
       "display         0\n",
       "network         0\n",
       "battery         0\n",
       "resolution      0\n",
       "dtype: int64"
      ]
     },
     "execution_count": 14,
     "metadata": {},
     "output_type": "execute_result"
    }
   ],
   "source": [
    "df.isnull().sum()"
   ]
  },
  {
   "cell_type": "code",
   "execution_count": 15,
   "id": "c4e18e80-ba60-4b9f-bf9a-c2781ca26c77",
   "metadata": {},
   "outputs": [],
   "source": [
    "pattern = re.compile(r'[x|*]', re.I)\n",
    "df['resolution_width'] = df['resolution'].apply(lambda x: int(pattern.split(x)[0]))\n",
    "df['resolution_height'] = df['resolution'].apply(lambda x: int(pattern.split(x)[1]))"
   ]
  },
  {
   "cell_type": "code",
   "execution_count": 16,
   "id": "d0da2a34-6095-42a6-9947-550d577217b9",
   "metadata": {},
   "outputs": [],
   "source": [
    "df.drop('resolution', axis = 1, inplace = True)"
   ]
  },
  {
   "cell_type": "code",
   "execution_count": 17,
   "id": "47811981-2cca-46ad-a827-a11bb1ff5065",
   "metadata": {},
   "outputs": [
    {
     "name": "stdout",
     "output_type": "stream",
     "text": [
      "<class 'pandas.core.frame.DataFrame'>\n",
      "Index: 536 entries, 0 to 573\n",
      "Data columns (total 12 columns):\n",
      " #   Column             Non-Null Count  Dtype  \n",
      "---  ------             --------------  -----  \n",
      " 0   name               536 non-null    object \n",
      " 1   ratings            536 non-null    float64\n",
      " 2   price              536 non-null    object \n",
      " 3   imgURL             536 non-null    object \n",
      " 4   storage_ram        536 non-null    object \n",
      " 5   os_processor       536 non-null    object \n",
      " 6   camera             536 non-null    object \n",
      " 7   display            536 non-null    object \n",
      " 8   network            536 non-null    object \n",
      " 9   battery            536 non-null    object \n",
      " 10  resolution_width   536 non-null    int64  \n",
      " 11  resolution_height  536 non-null    int64  \n",
      "dtypes: float64(1), int64(2), object(9)\n",
      "memory usage: 54.4+ KB\n"
     ]
    }
   ],
   "source": [
    "df.info()"
   ]
  },
  {
   "cell_type": "code",
   "execution_count": 18,
   "id": "54c8785c-ad1a-4af1-ae4c-ffb749de4756",
   "metadata": {},
   "outputs": [
    {
     "data": {
      "text/plain": [
       "0      Display Size16.76 cm (6.6 inch)Resolution2408 ...\n",
       "1      Display Size16.76 cm (6.6 inch)Resolution2408 ...\n",
       "2      Display Size16.76 cm (6.6 inch)Resolution2408 ...\n",
       "3      Display Size16.76 cm (6.6 inch)Resolution2408 ...\n",
       "4      Display Size16.76 cm (6.6 inch)Resolution2408 ...\n",
       "                             ...                        \n",
       "569    Display Size16.0 cm (6.3 inch)Resolution2340 x...\n",
       "570    Display Size17.53 cm (6.9 inch)Resolution3088 ...\n",
       "571    Display Size16.26 cm (6.4 inch)Resolution1920 ...\n",
       "572    Display Size15.24 cm (6 inch)Resolution720 x 1...\n",
       "573    Display Size17.02 cm (6.7 inch)Resolution2340 ...\n",
       "Name: display, Length: 536, dtype: object"
      ]
     },
     "execution_count": 18,
     "metadata": {},
     "output_type": "execute_result"
    }
   ],
   "source": [
    "df['display']"
   ]
  },
  {
   "cell_type": "code",
   "execution_count": 19,
   "id": "6e27d340-d0f7-4291-b802-be09278e7098",
   "metadata": {},
   "outputs": [],
   "source": [
    "pattern = re.compile(r'Size[0-9]+')\n",
    "def get_display_size(row):\n",
    "    match = pattern.search(row)\n",
    "    return match.group() if match else np.nan\n",
    "\n",
    "df['display_size'] = df['display'].apply(get_display_size)"
   ]
  },
  {
   "cell_type": "code",
   "execution_count": 20,
   "id": "65a235c5-97e8-4a49-966b-8939c8f85d2b",
   "metadata": {},
   "outputs": [],
   "source": [
    "pattern = re.compile(r'size', re.I)\n",
    "df['display_size(cm)'] = df['display_size'].apply(lambda x: int(pattern.split(x)[-1].strip()))"
   ]
  },
  {
   "cell_type": "code",
   "execution_count": 21,
   "id": "826346a4-29dc-4d07-b6f3-03b5c50d5cf9",
   "metadata": {},
   "outputs": [],
   "source": [
    "df.drop(['display', 'display_size'], axis = 1, inplace = True)"
   ]
  },
  {
   "cell_type": "code",
   "execution_count": 22,
   "id": "09d369e6-5855-4521-b511-671d38e76380",
   "metadata": {},
   "outputs": [
    {
     "data": {
      "text/plain": [
       "name                 0\n",
       "ratings              0\n",
       "price                0\n",
       "imgURL               0\n",
       "storage_ram          0\n",
       "os_processor         0\n",
       "camera               0\n",
       "network              0\n",
       "battery              0\n",
       "resolution_width     0\n",
       "resolution_height    0\n",
       "display_size(cm)     0\n",
       "dtype: int64"
      ]
     },
     "execution_count": 22,
     "metadata": {},
     "output_type": "execute_result"
    }
   ],
   "source": [
    "df.isna().sum()"
   ]
  },
  {
   "cell_type": "code",
   "execution_count": 23,
   "id": "fccb0ecc-b2e9-400f-98ad-62de135ee189",
   "metadata": {},
   "outputs": [
    {
     "data": {
      "text/html": [
       "<div>\n",
       "<style scoped>\n",
       "    .dataframe tbody tr th:only-of-type {\n",
       "        vertical-align: middle;\n",
       "    }\n",
       "\n",
       "    .dataframe tbody tr th {\n",
       "        vertical-align: top;\n",
       "    }\n",
       "\n",
       "    .dataframe thead th {\n",
       "        text-align: right;\n",
       "    }\n",
       "</style>\n",
       "<table border=\"1\" class=\"dataframe\">\n",
       "  <thead>\n",
       "    <tr style=\"text-align: right;\">\n",
       "      <th></th>\n",
       "      <th>name</th>\n",
       "      <th>ratings</th>\n",
       "      <th>price</th>\n",
       "      <th>imgURL</th>\n",
       "      <th>storage_ram</th>\n",
       "      <th>os_processor</th>\n",
       "      <th>camera</th>\n",
       "      <th>network</th>\n",
       "      <th>battery</th>\n",
       "      <th>resolution_width</th>\n",
       "      <th>resolution_height</th>\n",
       "      <th>display_size(cm)</th>\n",
       "    </tr>\n",
       "  </thead>\n",
       "  <tbody>\n",
       "    <tr>\n",
       "      <th>529</th>\n",
       "      <td>SAMSUNG Galaxy core prime (Milky White, 8 GB)</td>\n",
       "      <td>4.1</td>\n",
       "      <td>₹8,999</td>\n",
       "      <td>https://rukminim2.flixcart.com/image/312/312/x...</td>\n",
       "      <td>Internal Storage8 GBRAM1 GBMemory Card Slot Ty...</td>\n",
       "      <td>Operating SystemAndroid KitKat 4.4Processor Co...</td>\n",
       "      <td>Primary Camera5MP Rear CameraDual Camera LensP...</td>\n",
       "      <td>Network Type3GSupported NetworksGSM</td>\n",
       "      <td>Battery Capacity2000 mAh</td>\n",
       "      <td>800</td>\n",
       "      <td>480</td>\n",
       "      <td>11</td>\n",
       "    </tr>\n",
       "    <tr>\n",
       "      <th>391</th>\n",
       "      <td>SAMSUNG Galaxy A21s (Blue, 64 GB)</td>\n",
       "      <td>4.2</td>\n",
       "      <td>₹19,999</td>\n",
       "      <td>https://rukminim2.flixcart.com/image/312/312/k...</td>\n",
       "      <td>Internal Storage64 GBRAM6 GBExpandable Storage...</td>\n",
       "      <td>Operating SystemAndroid Pie 9.0Processor CoreO...</td>\n",
       "      <td>Primary Camera32MP Rear CameraDual Camera Lens...</td>\n",
       "      <td>Network Type4G, 3G, 2GSupported Networks4G LTE...</td>\n",
       "      <td>Battery Capacity5000 mAh</td>\n",
       "      <td>1600</td>\n",
       "      <td>720</td>\n",
       "      <td>16</td>\n",
       "    </tr>\n",
       "  </tbody>\n",
       "</table>\n",
       "</div>"
      ],
      "text/plain": [
       "                                              name  ratings    price  \\\n",
       "529  SAMSUNG Galaxy core prime (Milky White, 8 GB)      4.1   ₹8,999   \n",
       "391              SAMSUNG Galaxy A21s (Blue, 64 GB)      4.2  ₹19,999   \n",
       "\n",
       "                                                imgURL  \\\n",
       "529  https://rukminim2.flixcart.com/image/312/312/x...   \n",
       "391  https://rukminim2.flixcart.com/image/312/312/k...   \n",
       "\n",
       "                                           storage_ram  \\\n",
       "529  Internal Storage8 GBRAM1 GBMemory Card Slot Ty...   \n",
       "391  Internal Storage64 GBRAM6 GBExpandable Storage...   \n",
       "\n",
       "                                          os_processor  \\\n",
       "529  Operating SystemAndroid KitKat 4.4Processor Co...   \n",
       "391  Operating SystemAndroid Pie 9.0Processor CoreO...   \n",
       "\n",
       "                                                camera  \\\n",
       "529  Primary Camera5MP Rear CameraDual Camera LensP...   \n",
       "391  Primary Camera32MP Rear CameraDual Camera Lens...   \n",
       "\n",
       "                                               network  \\\n",
       "529                Network Type3GSupported NetworksGSM   \n",
       "391  Network Type4G, 3G, 2GSupported Networks4G LTE...   \n",
       "\n",
       "                      battery  resolution_width  resolution_height  \\\n",
       "529  Battery Capacity2000 mAh               800                480   \n",
       "391  Battery Capacity5000 mAh              1600                720   \n",
       "\n",
       "     display_size(cm)  \n",
       "529                11  \n",
       "391                16  "
      ]
     },
     "execution_count": 23,
     "metadata": {},
     "output_type": "execute_result"
    }
   ],
   "source": [
    "df.sample(2)"
   ]
  },
  {
   "cell_type": "code",
   "execution_count": 24,
   "id": "f9a548cb-3c3a-4f98-9483-272037997584",
   "metadata": {},
   "outputs": [],
   "source": [
    "pattern = re.compile(r'[0-9]+ mAh')\n",
    "def get_battery_capacity(row):\n",
    "    match = pattern.search(row)\n",
    "    return match.group() if match else np.nan\n",
    "\n",
    "df['battery_capacity'] = df['battery'].apply(get_battery_capacity)"
   ]
  },
  {
   "cell_type": "code",
   "execution_count": 25,
   "id": "8481f953-8ff6-4443-8072-85feca7adf06",
   "metadata": {},
   "outputs": [],
   "source": [
    "pattern = re.compile('mAh')\n",
    "df['battery_capacity(mAh)'] = df['battery_capacity'].apply(lambda x: int(pattern.split(x)[0].strip()))"
   ]
  },
  {
   "cell_type": "code",
   "execution_count": 26,
   "id": "34e608b1-5151-42ac-a53a-bfc78366564c",
   "metadata": {},
   "outputs": [],
   "source": [
    "df.drop(['battery_capacity', 'battery'], axis=1, inplace=True)"
   ]
  },
  {
   "cell_type": "code",
   "execution_count": 27,
   "id": "0bfc3bb0-0605-4b5c-86c7-3d64f05af604",
   "metadata": {},
   "outputs": [
    {
     "data": {
      "text/html": [
       "<div>\n",
       "<style scoped>\n",
       "    .dataframe tbody tr th:only-of-type {\n",
       "        vertical-align: middle;\n",
       "    }\n",
       "\n",
       "    .dataframe tbody tr th {\n",
       "        vertical-align: top;\n",
       "    }\n",
       "\n",
       "    .dataframe thead th {\n",
       "        text-align: right;\n",
       "    }\n",
       "</style>\n",
       "<table border=\"1\" class=\"dataframe\">\n",
       "  <thead>\n",
       "    <tr style=\"text-align: right;\">\n",
       "      <th></th>\n",
       "      <th>name</th>\n",
       "      <th>ratings</th>\n",
       "      <th>price</th>\n",
       "      <th>imgURL</th>\n",
       "      <th>storage_ram</th>\n",
       "      <th>os_processor</th>\n",
       "      <th>camera</th>\n",
       "      <th>network</th>\n",
       "      <th>resolution_width</th>\n",
       "      <th>resolution_height</th>\n",
       "      <th>display_size(cm)</th>\n",
       "      <th>battery_capacity(mAh)</th>\n",
       "    </tr>\n",
       "  </thead>\n",
       "  <tbody>\n",
       "    <tr>\n",
       "      <th>49</th>\n",
       "      <td>SAMSUNG Galaxy A34 5G (Awesome Violet, 128 GB)</td>\n",
       "      <td>4.2</td>\n",
       "      <td>₹30,999</td>\n",
       "      <td>https://rukminim2.flixcart.com/image/312/312/x...</td>\n",
       "      <td>Internal Storage128 GBRAM8 GBTotal Memory128 G...</td>\n",
       "      <td>Operating SystemAndroid 13Processor TypeDimens...</td>\n",
       "      <td>Primary Camera AvailableYesPrimary Camera48MP ...</td>\n",
       "      <td>Network Type2G, 3G, 4G VOLTE, 5GSupported Netw...</td>\n",
       "      <td>1080</td>\n",
       "      <td>2340</td>\n",
       "      <td>16</td>\n",
       "      <td>5000</td>\n",
       "    </tr>\n",
       "    <tr>\n",
       "      <th>142</th>\n",
       "      <td>SAMSUNG Galaxy S23 Ultra 5G (Phantom Black, 25...</td>\n",
       "      <td>4.4</td>\n",
       "      <td>₹1,24,999</td>\n",
       "      <td>https://rukminim2.flixcart.com/image/312/312/x...</td>\n",
       "      <td>Internal Storage256 GBRAM12 GBTotal Memory256 GB</td>\n",
       "      <td>Operating SystemAndroid 13Processor TypeQualco...</td>\n",
       "      <td>Primary Camera AvailableYesPrimary Camera200MP...</td>\n",
       "      <td>Network Type5G, 4G, 3G, 2GSupported Networks5G...</td>\n",
       "      <td>3088</td>\n",
       "      <td>1440</td>\n",
       "      <td>17</td>\n",
       "      <td>5000</td>\n",
       "    </tr>\n",
       "    <tr>\n",
       "      <th>48</th>\n",
       "      <td>SAMSUNG Galaxy A54 5G (Awesome Violet, 128 GB)</td>\n",
       "      <td>4.3</td>\n",
       "      <td>₹38,999</td>\n",
       "      <td>https://rukminim2.flixcart.com/image/312/312/x...</td>\n",
       "      <td>Internal Storage128 GBRAM8 GBExpandable Storag...</td>\n",
       "      <td>Operating SystemAndroid 13Processor TypeExynos...</td>\n",
       "      <td>Primary Camera AvailableYesPrimary Camera50MP ...</td>\n",
       "      <td>Network Type2G, 3G, 4G, 5GSupported Networks4G...</td>\n",
       "      <td>2340</td>\n",
       "      <td>1080</td>\n",
       "      <td>16</td>\n",
       "      <td>5000</td>\n",
       "    </tr>\n",
       "  </tbody>\n",
       "</table>\n",
       "</div>"
      ],
      "text/plain": [
       "                                                  name  ratings      price  \\\n",
       "49      SAMSUNG Galaxy A34 5G (Awesome Violet, 128 GB)      4.2    ₹30,999   \n",
       "142  SAMSUNG Galaxy S23 Ultra 5G (Phantom Black, 25...      4.4  ₹1,24,999   \n",
       "48      SAMSUNG Galaxy A54 5G (Awesome Violet, 128 GB)      4.3    ₹38,999   \n",
       "\n",
       "                                                imgURL  \\\n",
       "49   https://rukminim2.flixcart.com/image/312/312/x...   \n",
       "142  https://rukminim2.flixcart.com/image/312/312/x...   \n",
       "48   https://rukminim2.flixcart.com/image/312/312/x...   \n",
       "\n",
       "                                           storage_ram  \\\n",
       "49   Internal Storage128 GBRAM8 GBTotal Memory128 G...   \n",
       "142   Internal Storage256 GBRAM12 GBTotal Memory256 GB   \n",
       "48   Internal Storage128 GBRAM8 GBExpandable Storag...   \n",
       "\n",
       "                                          os_processor  \\\n",
       "49   Operating SystemAndroid 13Processor TypeDimens...   \n",
       "142  Operating SystemAndroid 13Processor TypeQualco...   \n",
       "48   Operating SystemAndroid 13Processor TypeExynos...   \n",
       "\n",
       "                                                camera  \\\n",
       "49   Primary Camera AvailableYesPrimary Camera48MP ...   \n",
       "142  Primary Camera AvailableYesPrimary Camera200MP...   \n",
       "48   Primary Camera AvailableYesPrimary Camera50MP ...   \n",
       "\n",
       "                                               network  resolution_width  \\\n",
       "49   Network Type2G, 3G, 4G VOLTE, 5GSupported Netw...              1080   \n",
       "142  Network Type5G, 4G, 3G, 2GSupported Networks5G...              3088   \n",
       "48   Network Type2G, 3G, 4G, 5GSupported Networks4G...              2340   \n",
       "\n",
       "     resolution_height  display_size(cm)  battery_capacity(mAh)  \n",
       "49                2340                16                   5000  \n",
       "142               1440                17                   5000  \n",
       "48                1080                16                   5000  "
      ]
     },
     "execution_count": 27,
     "metadata": {},
     "output_type": "execute_result"
    }
   ],
   "source": [
    "df.sample(3)"
   ]
  },
  {
   "cell_type": "code",
   "execution_count": 28,
   "id": "f3d0dd69-8405-475d-89de-b3684971e211",
   "metadata": {},
   "outputs": [],
   "source": [
    "pattern = re.compile(r'Storage[0-9]+', re.I)\n",
    "split_by_storage_pattern = re.compile(r'Storage', re.I)\n",
    "\n",
    "def get_internal_storage(row):\n",
    "    match = pattern.search(row)\n",
    "    return int(split_by_storage_pattern.split(match.group())[-1]) if match else np.nan\n",
    "\n",
    "df['internal_storage'] = df['storage_ram'].apply(get_internal_storage)"
   ]
  },
  {
   "cell_type": "code",
   "execution_count": 29,
   "id": "a3044fbe-c5b0-4bda-9d94-b158c8a9f957",
   "metadata": {},
   "outputs": [
    {
     "data": {
      "text/plain": [
       "name                      0\n",
       "ratings                   0\n",
       "price                     0\n",
       "imgURL                    0\n",
       "storage_ram               0\n",
       "os_processor              0\n",
       "camera                    0\n",
       "network                   0\n",
       "resolution_width          0\n",
       "resolution_height         0\n",
       "display_size(cm)          0\n",
       "battery_capacity(mAh)     0\n",
       "internal_storage         10\n",
       "dtype: int64"
      ]
     },
     "execution_count": 29,
     "metadata": {},
     "output_type": "execute_result"
    }
   ],
   "source": [
    "df.isna().sum()"
   ]
  },
  {
   "cell_type": "code",
   "execution_count": 30,
   "id": "ebea26d4-a4b1-4999-a780-8a2429f19167",
   "metadata": {},
   "outputs": [
    {
     "data": {
      "text/html": [
       "<div>\n",
       "<style scoped>\n",
       "    .dataframe tbody tr th:only-of-type {\n",
       "        vertical-align: middle;\n",
       "    }\n",
       "\n",
       "    .dataframe tbody tr th {\n",
       "        vertical-align: top;\n",
       "    }\n",
       "\n",
       "    .dataframe thead th {\n",
       "        text-align: right;\n",
       "    }\n",
       "</style>\n",
       "<table border=\"1\" class=\"dataframe\">\n",
       "  <thead>\n",
       "    <tr style=\"text-align: right;\">\n",
       "      <th></th>\n",
       "      <th>name</th>\n",
       "      <th>internal_storage</th>\n",
       "      <th>storage_ram</th>\n",
       "    </tr>\n",
       "  </thead>\n",
       "  <tbody>\n",
       "    <tr>\n",
       "      <th>16</th>\n",
       "      <td>SAMSUNG Guru Music 2</td>\n",
       "      <td>NaN</td>\n",
       "      <td>Internal StorageNAPhone Book MemoryYesCall Log...</td>\n",
       "    </tr>\n",
       "    <tr>\n",
       "      <th>33</th>\n",
       "      <td>SAMSUNG Guru Music 2</td>\n",
       "      <td>NaN</td>\n",
       "      <td>Internal StorageNAPhone Book MemoryYesCall Log...</td>\n",
       "    </tr>\n",
       "    <tr>\n",
       "      <th>35</th>\n",
       "      <td>SAMSUNG Guru Music 2</td>\n",
       "      <td>NaN</td>\n",
       "      <td>Internal StorageNACall Log MemoryYesSMS MemoryYes</td>\n",
       "    </tr>\n",
       "    <tr>\n",
       "      <th>72</th>\n",
       "      <td>SAMSUNG GT-E1215ZKAINS</td>\n",
       "      <td>NaN</td>\n",
       "      <td>Internal StorageNAPhone Book Memory1000Call Lo...</td>\n",
       "    </tr>\n",
       "    <tr>\n",
       "      <th>150</th>\n",
       "      <td>SAMSUNG GT-E1215ZDAINS</td>\n",
       "      <td>NaN</td>\n",
       "      <td>Internal StorageNAPhone Book Memory1000Call Lo...</td>\n",
       "    </tr>\n",
       "    <tr>\n",
       "      <th>283</th>\n",
       "      <td>SAMSUNG GT-E1215ZWAINS</td>\n",
       "      <td>NaN</td>\n",
       "      <td>Internal StorageNAPhone Book Memory1000Call Lo...</td>\n",
       "    </tr>\n",
       "    <tr>\n",
       "      <th>306</th>\n",
       "      <td>SAMSUNG GT-E1215</td>\n",
       "      <td>NaN</td>\n",
       "      <td>Internal StorageNAPhone Book Memory1000Call Lo...</td>\n",
       "    </tr>\n",
       "    <tr>\n",
       "      <th>369</th>\n",
       "      <td>SAMSUNG Galaxy A2 Core (Blue, 16 GB)</td>\n",
       "      <td>NaN</td>\n",
       "      <td>Internal StorageNACall Log MemoryYesSMS MemoryYes</td>\n",
       "    </tr>\n",
       "    <tr>\n",
       "      <th>377</th>\n",
       "      <td>SAMSUNG Galaxy A13 (White, 64 GB)</td>\n",
       "      <td>NaN</td>\n",
       "      <td>Internal StorageNACall Log MemoryYesSMS MemoryYes</td>\n",
       "    </tr>\n",
       "    <tr>\n",
       "      <th>415</th>\n",
       "      <td>SAMSUNG Guru FM Plus SM-B110E/D</td>\n",
       "      <td>NaN</td>\n",
       "      <td>Internal StorageNAPhone Book Memory1000, YesCa...</td>\n",
       "    </tr>\n",
       "  </tbody>\n",
       "</table>\n",
       "</div>"
      ],
      "text/plain": [
       "                                     name  internal_storage  \\\n",
       "16                   SAMSUNG Guru Music 2               NaN   \n",
       "33                   SAMSUNG Guru Music 2               NaN   \n",
       "35                   SAMSUNG Guru Music 2               NaN   \n",
       "72                 SAMSUNG GT-E1215ZKAINS               NaN   \n",
       "150                SAMSUNG GT-E1215ZDAINS               NaN   \n",
       "283                SAMSUNG GT-E1215ZWAINS               NaN   \n",
       "306                      SAMSUNG GT-E1215               NaN   \n",
       "369  SAMSUNG Galaxy A2 Core (Blue, 16 GB)               NaN   \n",
       "377     SAMSUNG Galaxy A13 (White, 64 GB)               NaN   \n",
       "415       SAMSUNG Guru FM Plus SM-B110E/D               NaN   \n",
       "\n",
       "                                           storage_ram  \n",
       "16   Internal StorageNAPhone Book MemoryYesCall Log...  \n",
       "33   Internal StorageNAPhone Book MemoryYesCall Log...  \n",
       "35   Internal StorageNACall Log MemoryYesSMS MemoryYes  \n",
       "72   Internal StorageNAPhone Book Memory1000Call Lo...  \n",
       "150  Internal StorageNAPhone Book Memory1000Call Lo...  \n",
       "283  Internal StorageNAPhone Book Memory1000Call Lo...  \n",
       "306  Internal StorageNAPhone Book Memory1000Call Lo...  \n",
       "369  Internal StorageNACall Log MemoryYesSMS MemoryYes  \n",
       "377  Internal StorageNACall Log MemoryYesSMS MemoryYes  \n",
       "415  Internal StorageNAPhone Book Memory1000, YesCa...  "
      ]
     },
     "execution_count": 30,
     "metadata": {},
     "output_type": "execute_result"
    }
   ],
   "source": [
    "df[df['internal_storage'].isna()][['name', 'internal_storage', 'storage_ram']]"
   ]
  },
  {
   "cell_type": "code",
   "execution_count": 31,
   "id": "1f85aac1-8458-4c93-915e-f2baa5f9247a",
   "metadata": {},
   "outputs": [],
   "source": [
    "df.fillna(0, inplace = True)"
   ]
  },
  {
   "cell_type": "code",
   "execution_count": 32,
   "id": "ed5587cb-e964-4bbc-8486-9e474e8bcc5b",
   "metadata": {},
   "outputs": [
    {
     "data": {
      "text/plain": [
       "name                     0\n",
       "ratings                  0\n",
       "price                    0\n",
       "imgURL                   0\n",
       "storage_ram              0\n",
       "os_processor             0\n",
       "camera                   0\n",
       "network                  0\n",
       "resolution_width         0\n",
       "resolution_height        0\n",
       "display_size(cm)         0\n",
       "battery_capacity(mAh)    0\n",
       "internal_storage         0\n",
       "dtype: int64"
      ]
     },
     "execution_count": 32,
     "metadata": {},
     "output_type": "execute_result"
    }
   ],
   "source": [
    "df.isna().sum()"
   ]
  },
  {
   "cell_type": "code",
   "execution_count": 33,
   "id": "5cdf780e-7dbb-4684-9571-daaf755d151d",
   "metadata": {},
   "outputs": [
    {
     "data": {
      "text/html": [
       "<div>\n",
       "<style scoped>\n",
       "    .dataframe tbody tr th:only-of-type {\n",
       "        vertical-align: middle;\n",
       "    }\n",
       "\n",
       "    .dataframe tbody tr th {\n",
       "        vertical-align: top;\n",
       "    }\n",
       "\n",
       "    .dataframe thead th {\n",
       "        text-align: right;\n",
       "    }\n",
       "</style>\n",
       "<table border=\"1\" class=\"dataframe\">\n",
       "  <thead>\n",
       "    <tr style=\"text-align: right;\">\n",
       "      <th></th>\n",
       "      <th>name</th>\n",
       "      <th>ratings</th>\n",
       "      <th>price</th>\n",
       "      <th>imgURL</th>\n",
       "      <th>storage_ram</th>\n",
       "      <th>os_processor</th>\n",
       "      <th>camera</th>\n",
       "      <th>network</th>\n",
       "      <th>resolution_width</th>\n",
       "      <th>resolution_height</th>\n",
       "      <th>display_size(cm)</th>\n",
       "      <th>battery_capacity(mAh)</th>\n",
       "      <th>internal_storage</th>\n",
       "    </tr>\n",
       "  </thead>\n",
       "  <tbody>\n",
       "    <tr>\n",
       "      <th>313</th>\n",
       "      <td>SAMSUNG Galaxy A14 (Light Green, 64 GB)</td>\n",
       "      <td>3.9</td>\n",
       "      <td>₹13,999</td>\n",
       "      <td>https://rukminim2.flixcart.com/image/312/312/x...</td>\n",
       "      <td>Internal Storage64 GBRAM4 GBTotal Memory64 GBE...</td>\n",
       "      <td>Operating SystemAndroid 13Processor TypeExynos...</td>\n",
       "      <td>Primary Camera AvailableYesPrimary Camera50MP ...</td>\n",
       "      <td>Network Type2G, 3G, 4GSupported Networks4G LTE...</td>\n",
       "      <td>2408</td>\n",
       "      <td>1080</td>\n",
       "      <td>16</td>\n",
       "      <td>5000</td>\n",
       "      <td>64.0</td>\n",
       "    </tr>\n",
       "    <tr>\n",
       "      <th>314</th>\n",
       "      <td>SAMSUNG Galaxy S22 5G (Phantom Black, 256 GB)</td>\n",
       "      <td>4.3</td>\n",
       "      <td>₹72,999</td>\n",
       "      <td>https://rukminim2.flixcart.com/image/312/312/x...</td>\n",
       "      <td>Internal Storage256 GBRAM8 GB</td>\n",
       "      <td>Operating SystemAndroid 12Processor TypeOcta C...</td>\n",
       "      <td>Primary Camera AvailableYesPrimary Camera50MP ...</td>\n",
       "      <td>Network Type5G, 4G, 3G, 2GSupported Networks5G...</td>\n",
       "      <td>2340</td>\n",
       "      <td>1080</td>\n",
       "      <td>15</td>\n",
       "      <td>3700</td>\n",
       "      <td>256.0</td>\n",
       "    </tr>\n",
       "    <tr>\n",
       "      <th>315</th>\n",
       "      <td>SAMSUNG Galaxy A13 (Blue, 64 GB)</td>\n",
       "      <td>4.1</td>\n",
       "      <td>₹14,990</td>\n",
       "      <td>https://rukminim2.flixcart.com/image/312/312/l...</td>\n",
       "      <td>Internal Storage64 GBRAM4 GBTotal Memory64 GBE...</td>\n",
       "      <td>Operating SystemAndroid 12Processor TypeExynos...</td>\n",
       "      <td>Primary Camera AvailableYesPrimary Camera50MP ...</td>\n",
       "      <td>Network Type4G, 3G, 2GSupported Networks4G LTE...</td>\n",
       "      <td>1923</td>\n",
       "      <td>1080</td>\n",
       "      <td>16</td>\n",
       "      <td>5000</td>\n",
       "      <td>64.0</td>\n",
       "    </tr>\n",
       "  </tbody>\n",
       "</table>\n",
       "</div>"
      ],
      "text/plain": [
       "                                              name  ratings    price  \\\n",
       "313        SAMSUNG Galaxy A14 (Light Green, 64 GB)      3.9  ₹13,999   \n",
       "314  SAMSUNG Galaxy S22 5G (Phantom Black, 256 GB)      4.3  ₹72,999   \n",
       "315               SAMSUNG Galaxy A13 (Blue, 64 GB)      4.1  ₹14,990   \n",
       "\n",
       "                                                imgURL  \\\n",
       "313  https://rukminim2.flixcart.com/image/312/312/x...   \n",
       "314  https://rukminim2.flixcart.com/image/312/312/x...   \n",
       "315  https://rukminim2.flixcart.com/image/312/312/l...   \n",
       "\n",
       "                                           storage_ram  \\\n",
       "313  Internal Storage64 GBRAM4 GBTotal Memory64 GBE...   \n",
       "314                      Internal Storage256 GBRAM8 GB   \n",
       "315  Internal Storage64 GBRAM4 GBTotal Memory64 GBE...   \n",
       "\n",
       "                                          os_processor  \\\n",
       "313  Operating SystemAndroid 13Processor TypeExynos...   \n",
       "314  Operating SystemAndroid 12Processor TypeOcta C...   \n",
       "315  Operating SystemAndroid 12Processor TypeExynos...   \n",
       "\n",
       "                                                camera  \\\n",
       "313  Primary Camera AvailableYesPrimary Camera50MP ...   \n",
       "314  Primary Camera AvailableYesPrimary Camera50MP ...   \n",
       "315  Primary Camera AvailableYesPrimary Camera50MP ...   \n",
       "\n",
       "                                               network  resolution_width  \\\n",
       "313  Network Type2G, 3G, 4GSupported Networks4G LTE...              2408   \n",
       "314  Network Type5G, 4G, 3G, 2GSupported Networks5G...              2340   \n",
       "315  Network Type4G, 3G, 2GSupported Networks4G LTE...              1923   \n",
       "\n",
       "     resolution_height  display_size(cm)  battery_capacity(mAh)  \\\n",
       "313               1080                16                   5000   \n",
       "314               1080                15                   3700   \n",
       "315               1080                16                   5000   \n",
       "\n",
       "     internal_storage  \n",
       "313              64.0  \n",
       "314             256.0  \n",
       "315              64.0  "
      ]
     },
     "execution_count": 33,
     "metadata": {},
     "output_type": "execute_result"
    }
   ],
   "source": [
    "df.iloc[295:298, :]"
   ]
  },
  {
   "cell_type": "code",
   "execution_count": 34,
   "id": "42ed640f-b1b5-46b7-8fea-0f607b5c048e",
   "metadata": {},
   "outputs": [],
   "source": [
    "df['price'] = df['price'].apply(lambda x: int(x[1:].replace(',', '')))\n",
    "# df['price'].apply(lambda x: int(re.search(r'[0-9,]+', x).group().replace(',', '')))"
   ]
  },
  {
   "cell_type": "code",
   "execution_count": 35,
   "id": "225f9a30-54bb-4bc3-aa94-91fd158f868f",
   "metadata": {},
   "outputs": [
    {
     "data": {
      "text/plain": [
       "name                     0\n",
       "ratings                  0\n",
       "price                    0\n",
       "imgURL                   0\n",
       "storage_ram              0\n",
       "os_processor             0\n",
       "camera                   0\n",
       "network                  0\n",
       "resolution_width         0\n",
       "resolution_height        0\n",
       "display_size(cm)         0\n",
       "battery_capacity(mAh)    0\n",
       "internal_storage         0\n",
       "dtype: int64"
      ]
     },
     "execution_count": 35,
     "metadata": {},
     "output_type": "execute_result"
    }
   ],
   "source": [
    "df.isna().sum()"
   ]
  },
  {
   "cell_type": "code",
   "execution_count": 36,
   "id": "d3cebdbc-e802-4a0d-8fbb-dff8312efb61",
   "metadata": {},
   "outputs": [
    {
     "data": {
      "text/plain": [
       "0      Internal Storage64 GBRAM4 GBExpandable Storage...\n",
       "1      Internal Storage128 GBRAM4 GBExpandable Storag...\n",
       "2      Internal Storage128 GBRAM4 GBExpandable Storag...\n",
       "3      Internal Storage128 GBRAM4 GBExpandable Storag...\n",
       "4      Internal Storage128 GBRAM6 GBTotal Memory128 G...\n",
       "                             ...                        \n",
       "569    Internal Storage128 GBRAM6 GBMemory Card Slot ...\n",
       "570    Internal Storage256 GBRAM12 GBExpandable Stora...\n",
       "571    Internal Storage64 GBRAM4 GBSupported Memory C...\n",
       "572    Internal Storage32 GBRAM2 GBExpandable Storage...\n",
       "573    Internal Storage128 GBRAM8 GBExpandable Storag...\n",
       "Name: storage_ram, Length: 536, dtype: object"
      ]
     },
     "execution_count": 36,
     "metadata": {},
     "output_type": "execute_result"
    }
   ],
   "source": [
    "df['storage_ram']"
   ]
  },
  {
   "cell_type": "code",
   "execution_count": 37,
   "id": "ecef0214-b01c-4a38-838e-a90c9d4879b2",
   "metadata": {},
   "outputs": [],
   "source": [
    "pattern = re.compile(r'ram[0-9]+', re.I)\n",
    "split_by_ram_pattern = re.compile(r'ram', re.I)\n",
    "\n",
    "def get_ram(row):\n",
    "    match = pattern.search(row)\n",
    "    return int(split_by_ram_pattern.split(match.group())[-1]) if match else np.nan\n",
    "    \n",
    "df['ram'] = df['storage_ram'].apply(get_ram)"
   ]
  },
  {
   "cell_type": "code",
   "execution_count": 58,
   "id": "73020ef8-e37b-4945-ace5-0bc31b9b2680",
   "metadata": {},
   "outputs": [
    {
     "data": {
      "text/plain": [
       "16     Internal StorageNAPhone Book MemoryYesCall Log...\n",
       "27     Internal StorageNATotal Memory16 GBExpandable ...\n",
       "33     Internal StorageNAPhone Book MemoryYesCall Log...\n",
       "35     Internal StorageNACall Log MemoryYesSMS MemoryYes\n",
       "53     Internal StorageNATotal Memory16 GBExpandable ...\n",
       "72     Internal StorageNAPhone Book Memory1000Call Lo...\n",
       "150    Internal StorageNAPhone Book Memory1000Call Lo...\n",
       "283    Internal StorageNAPhone Book Memory1000Call Lo...\n",
       "306    Internal StorageNAPhone Book Memory1000Call Lo...\n",
       "369    Internal StorageNACall Log MemoryYesSMS MemoryYes\n",
       "377    Internal StorageNACall Log MemoryYesSMS MemoryYes\n",
       "415    Internal StorageNAPhone Book Memory1000, YesCa...\n",
       "429    Internal Storage2 MBSupported Memory Card Type...\n",
       "464    Internal Storage128 MBPhone Book MemoryYesSMS ...\n",
       "Name: storage_ram, dtype: object"
      ]
     },
     "execution_count": 58,
     "metadata": {},
     "output_type": "execute_result"
    }
   ],
   "source": [
    "df[df['ram'].isna()]['storage_ram']"
   ]
  },
  {
   "cell_type": "code",
   "execution_count": 59,
   "id": "2cc59bcb-08d9-48f4-bc0b-9fbd8ff3c7e6",
   "metadata": {},
   "outputs": [],
   "source": [
    "df.dropna(axis = 0, inplace = True)"
   ]
  },
  {
   "cell_type": "code",
   "execution_count": 71,
   "id": "adf52666-8b21-4185-b845-3146c324c64c",
   "metadata": {},
   "outputs": [],
   "source": [
    "pattern = re.compile(r'dedicated|hybrid', re.I)\n",
    "def dedicated_hybrid_other(row):\n",
    "    match = pattern.search(row)\n",
    "    return match.group() if match else 'Other'\n",
    "df['slot_type'] = df['storage_ram'].apply(dedicated_hybrid_other)"
   ]
  },
  {
   "cell_type": "code",
   "execution_count": 70,
   "id": "d335f00d-fb04-49c5-bfe3-39733f66f50e",
   "metadata": {},
   "outputs": [],
   "source": [
    "pattern = re.compile(r'memory ?card', re.I)\n",
    "def memory_card(row):\n",
    "    match = pattern.search(row)\n",
    "    return 1 if match else 0\n",
    "\n",
    "df['has_memory_card_slot'] = df['storage_ram'].apply(memory_card)"
   ]
  },
  {
   "cell_type": "code",
   "execution_count": 72,
   "id": "92de5c25-d2d8-4267-9350-c65ab002d12e",
   "metadata": {},
   "outputs": [
    {
     "data": {
      "text/plain": [
       "name                     0\n",
       "ratings                  0\n",
       "price                    0\n",
       "imgURL                   0\n",
       "storage_ram              0\n",
       "os_processor             0\n",
       "camera                   0\n",
       "network                  0\n",
       "resolution_width         0\n",
       "resolution_height        0\n",
       "display_size(cm)         0\n",
       "battery_capacity(mAh)    0\n",
       "internal_storage         0\n",
       "ram                      0\n",
       "has_memory_card_slot     0\n",
       "slot_type                0\n",
       "dtype: int64"
      ]
     },
     "execution_count": 72,
     "metadata": {},
     "output_type": "execute_result"
    }
   ],
   "source": [
    "df.isna().sum()"
   ]
  },
  {
   "cell_type": "code",
   "execution_count": 73,
   "id": "3e305559-41a7-4aeb-a02f-fc16b9db1dbc",
   "metadata": {},
   "outputs": [],
   "source": [
    "df.drop('storage_ram', axis = 1, inplace = True)"
   ]
  },
  {
   "cell_type": "code",
   "execution_count": 74,
   "id": "0f53480a-6015-41dd-988f-ddfa54936cd3",
   "metadata": {},
   "outputs": [
    {
     "data": {
      "text/html": [
       "<div>\n",
       "<style scoped>\n",
       "    .dataframe tbody tr th:only-of-type {\n",
       "        vertical-align: middle;\n",
       "    }\n",
       "\n",
       "    .dataframe tbody tr th {\n",
       "        vertical-align: top;\n",
       "    }\n",
       "\n",
       "    .dataframe thead th {\n",
       "        text-align: right;\n",
       "    }\n",
       "</style>\n",
       "<table border=\"1\" class=\"dataframe\">\n",
       "  <thead>\n",
       "    <tr style=\"text-align: right;\">\n",
       "      <th></th>\n",
       "      <th>name</th>\n",
       "      <th>ratings</th>\n",
       "      <th>price</th>\n",
       "      <th>imgURL</th>\n",
       "      <th>os_processor</th>\n",
       "      <th>camera</th>\n",
       "      <th>network</th>\n",
       "      <th>resolution_width</th>\n",
       "      <th>resolution_height</th>\n",
       "      <th>display_size(cm)</th>\n",
       "      <th>battery_capacity(mAh)</th>\n",
       "      <th>internal_storage</th>\n",
       "      <th>ram</th>\n",
       "      <th>has_memory_card_slot</th>\n",
       "      <th>slot_type</th>\n",
       "    </tr>\n",
       "  </thead>\n",
       "  <tbody>\n",
       "    <tr>\n",
       "      <th>90</th>\n",
       "      <td>SAMSUNG Galaxy A23 (Blue, 128 GB)</td>\n",
       "      <td>4.3</td>\n",
       "      <td>19990</td>\n",
       "      <td>https://rukminim2.flixcart.com/image/312/312/l...</td>\n",
       "      <td>Operating SystemAndroid 13Processor TypeSEC S5...</td>\n",
       "      <td>Primary Camera AvailableYesPrimary Camera50MP ...</td>\n",
       "      <td>Network Type4GSupported Networks4G LTEInternet...</td>\n",
       "      <td>1920</td>\n",
       "      <td>1080</td>\n",
       "      <td>16</td>\n",
       "      <td>5000</td>\n",
       "      <td>128.0</td>\n",
       "      <td>8.0</td>\n",
       "      <td>1</td>\n",
       "      <td>Dedicated</td>\n",
       "    </tr>\n",
       "    <tr>\n",
       "      <th>430</th>\n",
       "      <td>SAMSUNG Galaxy A12 (Black, 64 GB)</td>\n",
       "      <td>4.3</td>\n",
       "      <td>13999</td>\n",
       "      <td>https://rukminim2.flixcart.com/image/312/312/k...</td>\n",
       "      <td>Operating SystemAndroid Pie 10Processor TypeSa...</td>\n",
       "      <td>Primary Camera AvailableYesPrimary Camera64MP ...</td>\n",
       "      <td>Network Type4G VOLTE, 4G, 3G, 2GSupported Netw...</td>\n",
       "      <td>1600</td>\n",
       "      <td>720</td>\n",
       "      <td>16</td>\n",
       "      <td>5000</td>\n",
       "      <td>64.0</td>\n",
       "      <td>4.0</td>\n",
       "      <td>1</td>\n",
       "      <td>Dedicated</td>\n",
       "    </tr>\n",
       "    <tr>\n",
       "      <th>499</th>\n",
       "      <td>SAMSUNG Galaxy M11 (Metallic Blue, 32 GB)</td>\n",
       "      <td>4.3</td>\n",
       "      <td>10999</td>\n",
       "      <td>https://rukminim2.flixcart.com/image/312/312/k...</td>\n",
       "      <td>Operating SystemAndroid 10Processor TypeExynos...</td>\n",
       "      <td>Primary Camera AvailableYesPrimary Camera13MP ...</td>\n",
       "      <td>Network Type4G, 3G, 2GSupported Networks4G LTE...</td>\n",
       "      <td>1560</td>\n",
       "      <td>720</td>\n",
       "      <td>16</td>\n",
       "      <td>5000</td>\n",
       "      <td>32.0</td>\n",
       "      <td>3.0</td>\n",
       "      <td>1</td>\n",
       "      <td>Dedicated</td>\n",
       "    </tr>\n",
       "  </tbody>\n",
       "</table>\n",
       "</div>"
      ],
      "text/plain": [
       "                                          name  ratings  price  \\\n",
       "90           SAMSUNG Galaxy A23 (Blue, 128 GB)      4.3  19990   \n",
       "430          SAMSUNG Galaxy A12 (Black, 64 GB)      4.3  13999   \n",
       "499  SAMSUNG Galaxy M11 (Metallic Blue, 32 GB)      4.3  10999   \n",
       "\n",
       "                                                imgURL  \\\n",
       "90   https://rukminim2.flixcart.com/image/312/312/l...   \n",
       "430  https://rukminim2.flixcart.com/image/312/312/k...   \n",
       "499  https://rukminim2.flixcart.com/image/312/312/k...   \n",
       "\n",
       "                                          os_processor  \\\n",
       "90   Operating SystemAndroid 13Processor TypeSEC S5...   \n",
       "430  Operating SystemAndroid Pie 10Processor TypeSa...   \n",
       "499  Operating SystemAndroid 10Processor TypeExynos...   \n",
       "\n",
       "                                                camera  \\\n",
       "90   Primary Camera AvailableYesPrimary Camera50MP ...   \n",
       "430  Primary Camera AvailableYesPrimary Camera64MP ...   \n",
       "499  Primary Camera AvailableYesPrimary Camera13MP ...   \n",
       "\n",
       "                                               network  resolution_width  \\\n",
       "90   Network Type4GSupported Networks4G LTEInternet...              1920   \n",
       "430  Network Type4G VOLTE, 4G, 3G, 2GSupported Netw...              1600   \n",
       "499  Network Type4G, 3G, 2GSupported Networks4G LTE...              1560   \n",
       "\n",
       "     resolution_height  display_size(cm)  battery_capacity(mAh)  \\\n",
       "90                1080                16                   5000   \n",
       "430                720                16                   5000   \n",
       "499                720                16                   5000   \n",
       "\n",
       "     internal_storage  ram  has_memory_card_slot  slot_type  \n",
       "90              128.0  8.0                     1  Dedicated  \n",
       "430              64.0  4.0                     1  Dedicated  \n",
       "499              32.0  3.0                     1  Dedicated  "
      ]
     },
     "execution_count": 74,
     "metadata": {},
     "output_type": "execute_result"
    }
   ],
   "source": [
    "df.sample(3)"
   ]
  },
  {
   "cell_type": "code",
   "execution_count": 79,
   "id": "454c390e-fbf9-4d7f-b956-473ac46d9479",
   "metadata": {},
   "outputs": [],
   "source": [
    "pattern = re.compile(r'clock ?speed[0-9.]+', re.I)\n",
    "def clock_speed(row):\n",
    "    match = pattern.search(row)\n",
    "    return match.group() if match else np.nan\n",
    "\n",
    "df['clock_speed'] = df['os_processor'].apply(clock_speed)"
   ]
  },
  {
   "cell_type": "code",
   "execution_count": 83,
   "id": "ac5046f3-34a6-47ca-b4cf-885f0b440802",
   "metadata": {},
   "outputs": [
    {
     "data": {
      "text/plain": [
       "329                                   Operating System0V\n",
       "361                   Operating FrequencyGSM - 900, 1800\n",
       "370                   Operating FrequencyGSM - 900, 1800\n",
       "378    Operating System0vOperating FrequencyGSM - 900...\n",
       "Name: os_processor, dtype: object"
      ]
     },
     "execution_count": 83,
     "metadata": {},
     "output_type": "execute_result"
    }
   ],
   "source": [
    "df[df['clock_speed'].isna()]['os_processor']"
   ]
  },
  {
   "cell_type": "code",
   "execution_count": 84,
   "id": "8975ce54-9b8a-4f9f-bef6-be9fef8c48c2",
   "metadata": {},
   "outputs": [],
   "source": [
    "df.dropna(inplace = True)"
   ]
  },
  {
   "cell_type": "code",
   "execution_count": 93,
   "id": "c6c5202e-2126-4fa8-93b8-55e8f245c640",
   "metadata": {},
   "outputs": [],
   "source": [
    "df['clock_speed'] = df['clock_speed'].apply(lambda x: float(re.search(r'[0-9.]+', x).group()))"
   ]
  },
  {
   "cell_type": "code",
   "execution_count": 94,
   "id": "188cf2e5-7ce9-4078-ad82-e1329d3d5c96",
   "metadata": {},
   "outputs": [
    {
     "data": {
      "text/plain": [
       "name                     0\n",
       "ratings                  0\n",
       "price                    0\n",
       "imgURL                   0\n",
       "os_processor             0\n",
       "camera                   0\n",
       "network                  0\n",
       "resolution_width         0\n",
       "resolution_height        0\n",
       "display_size(cm)         0\n",
       "battery_capacity(mAh)    0\n",
       "internal_storage         0\n",
       "ram                      0\n",
       "has_memory_card_slot     0\n",
       "slot_type                0\n",
       "clock_speed              0\n",
       "dtype: int64"
      ]
     },
     "execution_count": 94,
     "metadata": {},
     "output_type": "execute_result"
    }
   ],
   "source": [
    "df.isna().sum()"
   ]
  },
  {
   "cell_type": "code",
   "execution_count": 132,
   "id": "0ef12383-a6e3-487c-8222-a8c489186959",
   "metadata": {},
   "outputs": [],
   "source": [
    "pattern = re.compile(r'([0-9.]+Processor|[0-9.]+V|v[0-9.]+|[0-9.]+Primary)', re.I)\n",
    "def android_version(row):\n",
    "    match = pattern.search(row)\n",
    "    return match.group().split('Processor')[0] if match else np.nan\n",
    "\n",
    "df['android_version'] = df['os_processor'].apply(android_version)"
   ]
  },
  {
   "cell_type": "code",
   "execution_count": 143,
   "id": "fa33c7d1-ad7e-4615-950e-d52b6a1e7674",
   "metadata": {},
   "outputs": [
    {
     "data": {
      "text/plain": [
       "65     Operating SystemAndroidProcessor CoreOcta Core...\n",
       "169    Operating SystemAndroidProcessor CoreDual Core...\n",
       "206    Operating SystemSeries 30 Propreitory vNA (Ser...\n",
       "249    Operating SystemSeries 30 Feature phoneProcess...\n",
       "395    Operating SystemTizenProcessor CoreQuad CorePr...\n",
       "Name: os_processor, dtype: object"
      ]
     },
     "execution_count": 143,
     "metadata": {},
     "output_type": "execute_result"
    }
   ],
   "source": [
    "df[df['android_version'].isna()]['os_processor']"
   ]
  },
  {
   "cell_type": "code",
   "execution_count": 144,
   "id": "642ca9b4-9718-46d6-bcce-2486804244ed",
   "metadata": {},
   "outputs": [],
   "source": [
    "df.dropna(inplace = True)"
   ]
  },
  {
   "cell_type": "code",
   "execution_count": 147,
   "id": "843c6744-8670-422d-9a4c-e41ea6b8fbad",
   "metadata": {},
   "outputs": [],
   "source": [
    "df.drop('os_processor', inplace = True, axis = 1)"
   ]
  },
  {
   "cell_type": "code",
   "execution_count": 148,
   "id": "6595e46f-b78a-4b8e-89cd-cc8630c55134",
   "metadata": {},
   "outputs": [
    {
     "data": {
      "text/plain": [
       "(513, 16)"
      ]
     },
     "execution_count": 148,
     "metadata": {},
     "output_type": "execute_result"
    }
   ],
   "source": [
    "df.shape"
   ]
  },
  {
   "cell_type": "code",
   "execution_count": 149,
   "id": "c7943a88-66b9-4253-b98d-7f361b25fcee",
   "metadata": {},
   "outputs": [
    {
     "data": {
      "text/html": [
       "<div>\n",
       "<style scoped>\n",
       "    .dataframe tbody tr th:only-of-type {\n",
       "        vertical-align: middle;\n",
       "    }\n",
       "\n",
       "    .dataframe tbody tr th {\n",
       "        vertical-align: top;\n",
       "    }\n",
       "\n",
       "    .dataframe thead th {\n",
       "        text-align: right;\n",
       "    }\n",
       "</style>\n",
       "<table border=\"1\" class=\"dataframe\">\n",
       "  <thead>\n",
       "    <tr style=\"text-align: right;\">\n",
       "      <th></th>\n",
       "      <th>name</th>\n",
       "      <th>ratings</th>\n",
       "      <th>price</th>\n",
       "      <th>imgURL</th>\n",
       "      <th>camera</th>\n",
       "      <th>network</th>\n",
       "      <th>resolution_width</th>\n",
       "      <th>resolution_height</th>\n",
       "      <th>display_size(cm)</th>\n",
       "      <th>battery_capacity(mAh)</th>\n",
       "      <th>internal_storage</th>\n",
       "      <th>ram</th>\n",
       "      <th>has_memory_card_slot</th>\n",
       "      <th>slot_type</th>\n",
       "      <th>clock_speed</th>\n",
       "      <th>android_version</th>\n",
       "    </tr>\n",
       "  </thead>\n",
       "  <tbody>\n",
       "    <tr>\n",
       "      <th>194</th>\n",
       "      <td>SAMSUNG Galaxy S22 5G (Bora Purple, 128 GB)</td>\n",
       "      <td>4.3</td>\n",
       "      <td>61999</td>\n",
       "      <td>https://rukminim2.flixcart.com/image/312/312/x...</td>\n",
       "      <td>Primary Camera50MP Rear CameraDual Camera Lens...</td>\n",
       "      <td>Network Type5GSupported Networks5G</td>\n",
       "      <td>2340</td>\n",
       "      <td>1080</td>\n",
       "      <td>15</td>\n",
       "      <td>3700</td>\n",
       "      <td>128.0</td>\n",
       "      <td>8.0</td>\n",
       "      <td>0</td>\n",
       "      <td>Other</td>\n",
       "      <td>2.99</td>\n",
       "      <td>12</td>\n",
       "    </tr>\n",
       "    <tr>\n",
       "      <th>233</th>\n",
       "      <td>SAMSUNG Galaxy J6 (Black, 64 GB)</td>\n",
       "      <td>4.5</td>\n",
       "      <td>9999</td>\n",
       "      <td>https://rukminim2.flixcart.com/image/312/312/j...</td>\n",
       "      <td>Primary Camera AvailableYesPrimary Camera13MP ...</td>\n",
       "      <td>Network Type3G, 4G VOLTE, 4G, 2GSupported Netw...</td>\n",
       "      <td>720</td>\n",
       "      <td>1480</td>\n",
       "      <td>14</td>\n",
       "      <td>3000</td>\n",
       "      <td>64.0</td>\n",
       "      <td>4.0</td>\n",
       "      <td>1</td>\n",
       "      <td>Dedicated</td>\n",
       "      <td>1.60</td>\n",
       "      <td>8</td>\n",
       "    </tr>\n",
       "    <tr>\n",
       "      <th>494</th>\n",
       "      <td>SAMSUNG Galaxy A10s (Blue, 32 GB)</td>\n",
       "      <td>4.6</td>\n",
       "      <td>9490</td>\n",
       "      <td>https://rukminim2.flixcart.com/image/312/312/k...</td>\n",
       "      <td>Primary Camera AvailableYesPrimary Camera13MP ...</td>\n",
       "      <td>Network Type3G, 4G, 2GSupported NetworksGSM, W...</td>\n",
       "      <td>720</td>\n",
       "      <td>1560</td>\n",
       "      <td>15</td>\n",
       "      <td>4000</td>\n",
       "      <td>32.0</td>\n",
       "      <td>2.0</td>\n",
       "      <td>0</td>\n",
       "      <td>Other</td>\n",
       "      <td>2.00</td>\n",
       "      <td>10</td>\n",
       "    </tr>\n",
       "  </tbody>\n",
       "</table>\n",
       "</div>"
      ],
      "text/plain": [
       "                                            name  ratings  price  \\\n",
       "194  SAMSUNG Galaxy S22 5G (Bora Purple, 128 GB)      4.3  61999   \n",
       "233             SAMSUNG Galaxy J6 (Black, 64 GB)      4.5   9999   \n",
       "494            SAMSUNG Galaxy A10s (Blue, 32 GB)      4.6   9490   \n",
       "\n",
       "                                                imgURL  \\\n",
       "194  https://rukminim2.flixcart.com/image/312/312/x...   \n",
       "233  https://rukminim2.flixcart.com/image/312/312/j...   \n",
       "494  https://rukminim2.flixcart.com/image/312/312/k...   \n",
       "\n",
       "                                                camera  \\\n",
       "194  Primary Camera50MP Rear CameraDual Camera Lens...   \n",
       "233  Primary Camera AvailableYesPrimary Camera13MP ...   \n",
       "494  Primary Camera AvailableYesPrimary Camera13MP ...   \n",
       "\n",
       "                                               network  resolution_width  \\\n",
       "194                 Network Type5GSupported Networks5G              2340   \n",
       "233  Network Type3G, 4G VOLTE, 4G, 2GSupported Netw...               720   \n",
       "494  Network Type3G, 4G, 2GSupported NetworksGSM, W...               720   \n",
       "\n",
       "     resolution_height  display_size(cm)  battery_capacity(mAh)  \\\n",
       "194               1080                15                   3700   \n",
       "233               1480                14                   3000   \n",
       "494               1560                15                   4000   \n",
       "\n",
       "     internal_storage  ram  has_memory_card_slot  slot_type  clock_speed  \\\n",
       "194             128.0  8.0                     0      Other         2.99   \n",
       "233              64.0  4.0                     1  Dedicated         1.60   \n",
       "494              32.0  2.0                     0      Other         2.00   \n",
       "\n",
       "    android_version  \n",
       "194              12  \n",
       "233               8  \n",
       "494              10  "
      ]
     },
     "execution_count": 149,
     "metadata": {},
     "output_type": "execute_result"
    }
   ],
   "source": [
    "df.sample(3)"
   ]
  },
  {
   "cell_type": "code",
   "execution_count": null,
   "id": "918f4971-b84a-4cb5-a721-cd501cc672cc",
   "metadata": {},
   "outputs": [],
   "source": []
  }
 ],
 "metadata": {
  "kernelspec": {
   "display_name": "Python 3 (ipykernel)",
   "language": "python",
   "name": "python3"
  },
  "language_info": {
   "codemirror_mode": {
    "name": "ipython",
    "version": 3
   },
   "file_extension": ".py",
   "mimetype": "text/x-python",
   "name": "python",
   "nbconvert_exporter": "python",
   "pygments_lexer": "ipython3",
   "version": "3.10.12"
  }
 },
 "nbformat": 4,
 "nbformat_minor": 5
}
